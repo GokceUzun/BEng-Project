{
 "cells": [
  {
   "cell_type": "code",
   "execution_count": 9,
   "id": "5849339e",
   "metadata": {},
   "outputs": [],
   "source": [
    "import sys\n",
    "import os.path\n",
    "import numpy as np\n",
    "from numpy import *"
   ]
  },
  {
   "cell_type": "code",
   "execution_count": 10,
   "id": "423c1393",
   "metadata": {},
   "outputs": [],
   "source": [
    "#variables\n",
    "number_of_channels = 16\n",
    "sample_rate = 250.4\n",
    "sample_datatype = 'int16'\n",
    "display_decimation = 1"
   ]
  },
  {
   "cell_type": "code",
   "execution_count": 11,
   "id": "7d3b09ac",
   "metadata": {},
   "outputs": [],
   "source": [
    "def parse_dat(filename):\n",
    "    '''Load a .dat file by interpreting it as int16 and then de-interlacing the 16 channels'''\n",
    "    \n",
    "    # Load the raw (1-D) data\n",
    "    \n",
    "    dat_raw = np.fromfile(filename, dtype=sample_datatype)\n",
    "    \n",
    "    # Reshape the (2-D) per channel data\n",
    "    step = number_of_channels * display_decimation\n",
    "    dat_chans = [dat_raw[c::step] for c in range(number_of_channels)]\n",
    "    \n",
    "    # Build the time array\n",
    "    t = np.arange(len(dat_chans[0]), dtype=float) / sample_rate\n",
    "    \n",
    "    return dat_chans, t"
   ]
  },
  {
   "cell_type": "code",
   "execution_count": 12,
   "id": "6518ba76",
   "metadata": {},
   "outputs": [],
   "source": [
    "# The .dat files are quite large so it would be better to transform them into numpy files to save memory space.\n",
    "def convert_dat_to_npy(filename, path_to_folder, path_to_save_folder, save_as_name):\n",
    "\n",
    "    os.chdir(path_to_folder)\n",
    "    \n",
    "    dat_chans, t = parse_dat(filename)\n",
    "    \n",
    "    data_to_save = np.array(dat_chans)\n",
    "    \n",
    "    os.chdir(path_to_save_folder)\n",
    "    \n",
    "    np.save(save_as_name, data_to_save)\n",
    "\n",
    "    print('data saved for ' + save_as_name)"
   ]
  },
  {
   "cell_type": "code",
   "execution_count": 14,
   "id": "38f0bc4d",
   "metadata": {},
   "outputs": [
    {
     "name": "stdout",
     "output_type": "stream",
     "text": [
      "/Volumes/Gonzalez-Sulser/SYNGAP SLEEP 24hr PAPER/Circadian-ETX/TAINI files/S7072\n",
      "\n",
      "\n",
      "['TAINI_1033_S7072_Drug2-2020_03_23-0000.sync', 'TAINI_1033_S7072_Baseline-2020_03_16-0000.sync', 'TAINI_1033_S7072_Drug2-2020_03_23-0000.dat', 'TAINI_1033_S7072_Wash1B-2020_03_20-0000_configuration.yaml', 'TAINI_1033_S7072_Baseline-2020_03_16-0000_configuration.yaml', 'TAINI_1033_S7072_Wash2-2020_03_24-0000.sync', 'TAINI_1033_S7072_Baseline-2020_03_16-0000.dat', 'TAINI_1033_S7072_Wash1B-2020_03_20-0000.sync', 'TAINI_1033_S7072_Drug2-2020_03_23-0000_configuration.yaml', 'TAINI_1033_S7072_Wash2-2020_03_24-0000.dat', 'TAINI_1033_S7072_Wash2-2020_03_24-0000_configuration.yaml', 'TAINI_1033_S7072_Wash1B-2020_03_20-0000.dat']\n",
      "\n",
      "\n",
      "/Volumes/Gonzalez-Sulser/SYNGAP SLEEP 24hr PAPER/Circadian-ETX/TAINI files/S7072\n",
      "\n",
      "\n",
      "['TAINI_1033_S7072_Drug2-2020_03_23-0000.sync', 'TAINI_1033_S7072_Baseline-2020_03_16-0000.sync', 'TAINI_1033_S7072_Drug2-2020_03_23-0000.dat', 'TAINI_1033_S7072_Wash1B-2020_03_20-0000_configuration.yaml', 'TAINI_1033_S7072_Baseline-2020_03_16-0000_configuration.yaml', 'TAINI_1033_S7072_Wash2-2020_03_24-0000.sync', 'TAINI_1033_S7072_Baseline-2020_03_16-0000.dat', 'TAINI_1033_S7072_Wash1B-2020_03_20-0000.sync', 'TAINI_1033_S7072_Drug2-2020_03_23-0000_configuration.yaml', 'TAINI_1033_S7072_Wash2-2020_03_24-0000.dat', 'TAINI_1033_S7072_Wash2-2020_03_24-0000_configuration.yaml', 'TAINI_1033_S7072_Wash1B-2020_03_20-0000.dat']\n",
      "\n",
      "\n",
      "TAINI_1033_S7072_Baseline-2020_03_16-0000.dat\n",
      "\n",
      "\n",
      "dat_raw\n",
      "\n",
      "\n",
      "dat_chans\n",
      "\n",
      "\n",
      "t\n",
      "[array([   0,   -2, 1358, ..., 2508, 2519, 2524], dtype=int16), array([   0,   -2, 1346, ..., 2467, 2468, 2474], dtype=int16), array([   0,   -3, 1359, ..., 2516, 2522, 2522], dtype=int16), array([   0,   -2, 1351, ..., 2511, 2519, 2517], dtype=int16), array([   0,   -2, 1337, ..., 2503, 2509, 2510], dtype=int16), array([   0,   -2, 1348, ..., 2502, 2510, 2515], dtype=int16), array([   0,   -2, 1365, ..., 2620, 2623, 2627], dtype=int16), array([   0,   -2, 1349, ..., 2474, 2482, 2484], dtype=int16), array([   0,   -3, 1380, ..., 2571, 2574, 2580], dtype=int16), array([   0,   -3, 1376, ..., 2518, 2524, 2530], dtype=int16), array([   0,   -3, 1325, ..., 2407, 2416, 2414], dtype=int16), array([   0,   -2, 1340, ..., 2475, 2482, 2476], dtype=int16), array([   0,   -2, 1323, ..., 2433, 2440, 2433], dtype=int16), array([   0,   -2, 1322, ..., 2424, 2427, 2419], dtype=int16), array([   0,   -2, 1374, ..., 2546, 2546, 2556], dtype=int16), array([   0,   -3, 1373, ..., 2535, 2544, 2546], dtype=int16)]\n",
      "\n",
      "\n",
      "[[   0   -2 1358 ... 2508 2519 2524]\n",
      " [   0   -2 1346 ... 2467 2468 2474]\n",
      " [   0   -3 1359 ... 2516 2522 2522]\n",
      " ...\n",
      " [   0   -2 1322 ... 2424 2427 2419]\n",
      " [   0   -2 1374 ... 2546 2546 2556]\n",
      " [   0   -3 1373 ... 2535 2544 2546]]\n",
      "\n",
      "\n",
      "/Users/gokceuzun/Desktop/4. SENE/Honors Project/S7072\n",
      "\n",
      "\n",
      "['.DS_Store', 'brain_states_1_S7072.pkl', 'S7072_saline.pkl', 'S7072_etx.pkl', 'brain_states_2_S7072.pkl']\n",
      "\n",
      "\n",
      "data saved for TAINI_1033_S7072_Baseline-2020_03_16-0000\n"
     ]
    }
   ],
   "source": [
    "filename = \"TAINI_1033_S7072_Baseline-2020_03_16-0000.dat\"\n",
    "path_to_folder = '/Volumes/Gonzalez-Sulser/SYNGAP SLEEP 24hr PAPER/Circadian-ETX/TAINI files/S7072'\n",
    "path_to_save_folder = '/Volumes/Macintosh HD/Users/gokceuzun/Desktop/4. SENE/Honors Project/S7072'\n",
    "save_as_name = 'TAINI_1033_S7072_Baseline-2020_03_16-0000'\n",
    "\n",
    "convert_dat_to_npy(filename, path_to_folder, path_to_save_folder, save_as_name)"
   ]
  },
  {
   "cell_type": "code",
   "execution_count": null,
   "id": "92bdf82b",
   "metadata": {},
   "outputs": [],
   "source": []
  }
 ],
 "metadata": {
  "kernelspec": {
   "display_name": "Python 3 (ipykernel)",
   "language": "python",
   "name": "python3"
  },
  "language_info": {
   "codemirror_mode": {
    "name": "ipython",
    "version": 3
   },
   "file_extension": ".py",
   "mimetype": "text/x-python",
   "name": "python",
   "nbconvert_exporter": "python",
   "pygments_lexer": "ipython3",
   "version": "3.9.0"
  }
 },
 "nbformat": 4,
 "nbformat_minor": 5
}
